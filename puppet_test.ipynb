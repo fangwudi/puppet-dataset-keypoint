{
 "cells": [
  {
   "cell_type": "code",
   "execution_count": 1,
   "metadata": {
    "collapsed": false
   },
   "outputs": [],
   "source": [
    "from puppet import *\n",
    "%matplotlib inline "
   ]
  },
  {
   "cell_type": "code",
   "execution_count": 2,
   "metadata": {
    "collapsed": true
   },
   "outputs": [],
   "source": [
    "# build dataset\n",
    "batch = 6\n",
    "height = 48\n",
    "width = 48\n",
    "dataset = PuppetDataset(batch, height, width)"
   ]
  },
  {
   "cell_type": "code",
   "execution_count": 3,
   "metadata": {
    "collapsed": false,
    "scrolled": false
   },
   "outputs": [
    {
     "data": {
      "image/png": "[encoded data removed]",
      "text/plain": [
       "<matplotlib.figure.Figure at 0x7fef666a4278>"
      ]
     },
     "metadata": {},
     "output_type": "display_data"
    },
    {
     "data": {
      "image/png": "[encoded data removed]",
      "text/plain": [
       "<matplotlib.figure.Figure at 0x7fef62a64f98>"
      ]
     },
     "metadata": {},
     "output_type": "display_data"
    },
    {
     "data": {
      "image/png": "[encoded data removed]",
      "text/plain": [
       "<matplotlib.figure.Figure at 0x7fef61126f28>"
      ]
     },
     "metadata": {},
     "output_type": "display_data"
    },
    {
     "data": {
      "image/png": "[encoded data removed]",
      "text/plain": [
       "<matplotlib.figure.Figure at 0x7fef61011e48>"
      ]
     },
     "metadata": {},
     "output_type": "display_data"
    },
    {
     "data": {
      "image/png": "[encoded data removed]",
      "text/plain": [
       "<matplotlib.figure.Figure at 0x7fef628ccd68>"
      ]
     },
     "metadata": {},
     "output_type": "display_data"
    },
    {
     "data": {
      "image/png": "[encoded data removed]",
      "text/plain": [
       "<matplotlib.figure.Figure at 0x7fef5f871c18>"
      ]
     },
     "metadata": {},
     "output_type": "display_data"
    }
   ],
   "source": [
    "# generate and display\n",
    "image_group, mask_group, annkp_group = dataset.next()\n",
    "for x in range(batch):\n",
    "    image = image_group[x]\n",
    "    mask = mask_group[x]\n",
    "    display_top_masks(image, mask)"
   ]
  },
  {
   "cell_type": "code",
   "execution_count": 4,
   "metadata": {
    "collapsed": false
   },
   "outputs": [
    {
     "data": {
      "text/plain": [
       "[[{'keypoints': [26, -11, 0, 17, -12, 0, 14, -3, 0, 13, 4, 1], 'size': 1},\n",
       "  {'keypoints': [20, 19, 1, 28, 23, 1, 28, 32, 1, 26, 39, 1], 'size': 1},\n",
       "  {'keypoints': [17, 24, 1, 8, 27, 1, 8, 36, 0, 11, 42, 1], 'size': 1},\n",
       "  {'keypoints': [13, 32, 1, 5, 29, 1, 7, 38, 1, 7, 45, 1], 'size': 1},\n",
       "  {'keypoints': [44, 18, 1, 59, 28, 0, 57, 46, 0, 49, 58, 0], 'size': 2}],\n",
       " [{'keypoints': [17, 8, 0, 26, 9, 1, 26, 18, 1, 27, 25, 1], 'size': 1},\n",
       "  {'keypoints': [46, 7, 0, 37, 6, 1, 41, 14, 1, 44, 20, 1], 'size': 1},\n",
       "  {'keypoints': [26, -11, 0, 43, -5, 0, 44, 13, 1, 51, 25, 0], 'size': 2},\n",
       "  {'keypoints': [-3, -20, 0, 13, -12, 0, 8, 5, 1, 10, 19, 1], 'size': 2},\n",
       "  {'keypoints': [8, -33, 0, 23, -23, 0, 20, -5, 0, 17, 9, 1], 'size': 2}],\n",
       " [{'keypoints': [29, 25, 0, 14, 35, 1, 13, 53, 0, 12, 67, 0], 'size': 2},\n",
       "  {'keypoints': [29, 27, 1, 47, 26, 1, 54, 42, 0, 53, 56, 0], 'size': 2},\n",
       "  {'keypoints': [-3, -4, 0, 12, 5, 1, 5, 21, 1, 5, 35, 1], 'size': 2}],\n",
       " [{'keypoints': [46, -1, 0, 39, 4, 1, 36, 13, 1, 33, 19, 1], 'size': 1},\n",
       "  {'keypoints': [15, 4, 1, 23, 0, 1, 23, 9, 1, 22, 16, 1], 'size': 1},\n",
       "  {'keypoints': [12, -25, 0, 26, -14, 0, 33, 3, 1, 33, 17, 1], 'size': 2},\n",
       "  {'keypoints': [-15, 6, 0, 3, 4, 1, 10, 21, 1, 10, 35, 1], 'size': 2},\n",
       "  {'keypoints': [24, 34, 1, 42, 33, 1, 35, 50, 0, 30, 63, 0], 'size': 2}],\n",
       " [{'keypoints': [20, -19, 0, 12, -14, 0, 12, -5, 0, 14, 2, 1], 'size': 1},\n",
       "  {'keypoints': [47, 16, 1, 38, 19, 1, 37, 28, 1, 33, 34, 1], 'size': 1},\n",
       "  {'keypoints': [7, 8, 1, -10, 2, 0, -10, 20, 0, -2, 32, 0], 'size': 2}],\n",
       " [{'keypoints': [38, 29, 1, 46, 26, 1, 42, 34, 1, 41, 41, 1], 'size': 1},\n",
       "  {'keypoints': [10, 42, 1, 19, 43, 1, 18, 52, 0, 22, 58, 0], 'size': 1},\n",
       "  {'keypoints': [1, 16, 1, 18, 11, 1, 23, 28, 1, 18, 41, 1], 'size': 2}]]"
      ]
     },
     "execution_count": 4,
     "metadata": {},
     "output_type": "execute_result"
    }
   ],
   "source": [
    "annkp_group"
   ]
  },
  {
   "cell_type": "code",
   "execution_count": null,
   "metadata": {
    "collapsed": true
   },
   "outputs": [],
   "source": []
  }
 ],
 "metadata": {
  "anaconda-cloud": {},
  "kernelspec": {
   "display_name": "Python [default]",
   "language": "python",
   "name": "python3"
  },
  "language_info": {
   "codemirror_mode": {
    "name": "ipython",
    "version": 3
   },
   "file_extension": ".py",
   "mimetype": "text/x-python",
   "name": "python",
   "nbconvert_exporter": "python",
   "pygments_lexer": "ipython3",
   "version": "3.5.2"
  }
 },
 "nbformat": 4,
 "nbformat_minor": 0
}
